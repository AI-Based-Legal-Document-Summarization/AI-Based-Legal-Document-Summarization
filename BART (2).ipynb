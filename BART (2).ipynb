{
 "cells": [
  {
   "cell_type": "markdown",
   "id": "cea86415",
   "metadata": {
    "id": "cea86415"
   },
   "source": [
    "### Script to generate summaries using chunking based BART method\n",
    "\n",
    "Assign the dataset and output_path variable according to requirements.  \n"
   ]
  },
  {
   "cell_type": "code",
   "execution_count": 1,
   "id": "b13ccd09",
   "metadata": {
    "id": "b13ccd09"
   },
   "outputs": [],
   "source": [
    "dataset = \"IN-Abs\" # Options: IN - IN-Abs, UK-UK-Abs, N2-IN-Ext \n",
    "output_path = \"\""
   ]
  },
  {
   "cell_type": "code",
   "execution_count": 2,
   "id": "6be17138-3fce-4420-8991-b074a2f09dc5",
   "metadata": {},
   "outputs": [],
   "source": [
    "import warnings\n",
    "warnings.filterwarnings(\"ignore\")"
   ]
  },
  {
   "cell_type": "code",
   "execution_count": 3,
   "id": "ad7a3c99",
   "metadata": {
    "id": "ad7a3c99"
   },
   "outputs": [],
   "source": [
    "import sys\n",
    "from BART_utilities import *\n",
    "# sys.path.insert(0, '../')\n",
    "import transformers\n",
    "import pandas as pd\n",
    "import numpy as np\n",
    "import glob\n",
    "import nltk\n",
    "import torch\n",
    "from utilities import *\n",
    "import math\n",
    "import random\n",
    "import re\n",
    "import argparse\n",
    "import os\n",
    "import matplotlib.pyplot as plt\n"
   ]
  },
  {
   "cell_type": "code",
   "execution_count": 4,
   "id": "ab020e43-e3ec-4c96-85b7-9bd48c1f3910",
   "metadata": {},
   "outputs": [],
   "source": [
    "from transformers import pipeline"
   ]
  },
  {
   "cell_type": "code",
   "execution_count": 5,
   "id": "ea21bb4b",
   "metadata": {
    "id": "ea21bb4b"
   },
   "outputs": [],
   "source": [
    "from transformers import BartTokenizer, BartForConditionalGeneration, AdamW, BartConfig\n"
   ]
  },
  {
   "cell_type": "code",
   "execution_count": 6,
   "id": "104de097-8b5c-48e5-8a99-baa2e292ca13",
   "metadata": {},
   "outputs": [],
   "source": [
    "from transformers import BartTokenizer, BartForConditionalGeneration\n",
    "\n",
    "from nltk.translate.bleu_score import sentence_bleu, SmoothingFunction\n",
    "from collections import Counter"
   ]
  },
  {
   "cell_type": "code",
   "execution_count": 7,
   "id": "51dbebca-e7fa-456e-b2a8-ba2aabbd38f7",
   "metadata": {},
   "outputs": [],
   "source": [
    "def readModel():\n",
    "    try:\n",
    "        with open('BART_summary_model.pkl', 'rb') as file:\n",
    "            data = pickle.load(file)\n",
    "    \n",
    "        model = KeyedVectors.load_word2vec_format('word2vec_model.bin', binary=True)\n",
    "    except:\n",
    "        pass\n",
    "\n",
    "    # Loading Model and tokenizer\n",
    "    tokenizer = BartTokenizer.from_pretrained('facebook/bart-large', add_prefix_space=True)\n",
    "    model = BartForConditionalGeneration.from_pretrained(\"facebook/bart-large\")\n",
    "    return tokenizer, model"
   ]
  },
  {
   "cell_type": "code",
   "execution_count": 8,
   "id": "22374baf-746b-4674-b9f2-d44eb1fb8466",
   "metadata": {},
   "outputs": [],
   "source": [
    "def predict(text):\n",
    "    # Tokenize the input text\n",
    "    inputs = tokenizer.encode(\"summarize: \" + text, return_tensors=\"pt\", max_length=1024, truncation=True)\n",
    "    global th\n",
    "    th = 0.135\n",
    "    # Generate summary\n",
    "    summary_ids = model.generate(inputs, max_length=150, min_length=40, length_penalty=2.0, num_beams=4, early_stopping=True)\n",
    "    \n",
    "    # Decode the generated summary\n",
    "    summary = tokenizer.decode(summary_ids[0], skip_special_tokens=True)\n",
    "    return summary\n"
   ]
  },
  {
   "cell_type": "code",
   "execution_count": 9,
   "id": "65d8ae33-eabf-4986-820b-349ff1d14fd7",
   "metadata": {},
   "outputs": [],
   "source": [
    "tokenizer, model = readModel()"
   ]
  },
  {
   "cell_type": "code",
   "execution_count": 10,
   "id": "c91e53ea-cee8-4521-9ca9-7bdeb2e34459",
   "metadata": {},
   "outputs": [],
   "source": [
    "# Input text to summarize\n",
    "text = \"\"\"Your long input text goes here. Make sure the text is long enough that it requires summarization.\"\"\""
   ]
  },
  {
   "cell_type": "code",
   "execution_count": 11,
   "id": "47d57618-fe73-4ef6-af05-e45a97dd0445",
   "metadata": {},
   "outputs": [],
   "source": [
    "summary = predict(text)"
   ]
  },
  {
   "cell_type": "code",
   "execution_count": 12,
   "id": "442e27e3-ac15-4a03-ac96-6dba545f1e3b",
   "metadata": {},
   "outputs": [
    {
     "name": "stdout",
     "output_type": "stream",
     "text": [
      "Summary: Make sure the input text goes here. Make sure the text is long enough that it requires summarization. summarize: Your long input text is summarized here.AdvertisementsShare this: PrintEmailTwitterFacebookPinterestLinkedInRedditGoogle\n"
     ]
    }
   ],
   "source": [
    "# Print the summary\n",
    "print(\"Summary:\", summary)"
   ]
  },
  {
   "cell_type": "code",
   "execution_count": null,
   "id": "cdb21182-e931-41b6-bb29-444b1c9d0fae",
   "metadata": {},
   "outputs": [],
   "source": []
  },
  {
   "cell_type": "markdown",
   "id": "def62924-72ff-4bb4-95f1-5991ae2603cc",
   "metadata": {},
   "source": [
    "# Testing"
   ]
  },
  {
   "cell_type": "code",
   "execution_count": 13,
   "id": "d1847835-03dc-4a11-8b65-2e7fecd07904",
   "metadata": {},
   "outputs": [],
   "source": [
    "from sklearn.metrics import classification_report\n",
    "from rouge_score import rouge_scorer"
   ]
  },
  {
   "cell_type": "code",
   "execution_count": 14,
   "id": "c729210a-d4d2-4feb-a639-ea68ab381140",
   "metadata": {},
   "outputs": [],
   "source": [
    "test_df = pd.read_csv(\"FD_IN-Abs_CLS_BK.csv\")\n",
    "shuffled_df = test_df.sample(frac=1, random_state=53).reset_index(drop=True)\n"
   ]
  },
  {
   "cell_type": "code",
   "execution_count": 15,
   "id": "fe430765-f8c4-4381-97ae-dbe91a9e0985",
   "metadata": {},
   "outputs": [],
   "source": [
    "test_df = shuffled_df.head()"
   ]
  },
  {
   "cell_type": "code",
   "execution_count": 16,
   "id": "74a5e1de-2424-44e4-a0a3-ed19955fa279",
   "metadata": {},
   "outputs": [],
   "source": [
    "def summarize_document(document):\n",
    "    inputs = tokenizer(document, return_tensors=\"pt\", max_length=1024, truncation=True)\n",
    "    summary_ids = model.generate(inputs[\"input_ids\"], num_beams=4, min_length=5, max_length=200, early_stopping=True)\n",
    "    summary = tokenizer.decode(summary_ids[0], skip_special_tokens=True)\n",
    "    return summary\n",
    "\n",
    "# Apply the summarization function\n",
    "test_df['generated_summary'] = test_df['document'].apply(summarize_document)\n",
    "\n"
   ]
  },
  {
   "cell_type": "code",
   "execution_count": 17,
   "id": "95fba8c2-5133-49c3-a932-02f0bc04739f",
   "metadata": {},
   "outputs": [
    {
     "data": {
      "text/html": [
       "<div>\n",
       "<style scoped>\n",
       "    .dataframe tbody tr th:only-of-type {\n",
       "        vertical-align: middle;\n",
       "    }\n",
       "\n",
       "    .dataframe tbody tr th {\n",
       "        vertical-align: top;\n",
       "    }\n",
       "\n",
       "    .dataframe thead th {\n",
       "        text-align: right;\n",
       "    }\n",
       "</style>\n",
       "<table border=\"1\" class=\"dataframe\">\n",
       "  <thead>\n",
       "    <tr style=\"text-align: right;\">\n",
       "      <th></th>\n",
       "      <th>id</th>\n",
       "      <th>document</th>\n",
       "      <th>summary</th>\n",
       "      <th>generated_summary</th>\n",
       "    </tr>\n",
       "  </thead>\n",
       "  <tbody>\n",
       "    <tr>\n",
       "      <th>0</th>\n",
       "      <td>337</td>\n",
       "      <td>307 and 308 of 1960. Petitions under article 3...</td>\n",
       "      <td>The petitioner who was carrying on the busines...</td>\n",
       "      <td>836640/60/AU/M dated Second February, 1960, ar...</td>\n",
       "    </tr>\n",
       "    <tr>\n",
       "      <th>1</th>\n",
       "      <td>204</td>\n",
       "      <td>Section 4 (1) provides for an exemption from o...</td>\n",
       "      <td>Held, a construction of the lease deed that th...</td>\n",
       "      <td>J. in Clark vs Downes(1), which case was appro...</td>\n",
       "    </tr>\n",
       "    <tr>\n",
       "      <th>2</th>\n",
       "      <td>456</td>\n",
       "      <td>All questions which may legiti mately be raise...</td>\n",
       "      <td>Held, that the Proceedings initiated before a ...</td>\n",
       "      <td>2 section III) under section 234. As a result ...</td>\n",
       "    </tr>\n",
       "    <tr>\n",
       "      <th>3</th>\n",
       "      <td>236</td>\n",
       "      <td>11 of 1903. A portion of these had since then ...</td>\n",
       "      <td>In a subsequent suit between the same parties ...</td>\n",
       "      <td>(I) (1938) 65 I.A. 365. 162 In order to apprec...</td>\n",
       "    </tr>\n",
       "    <tr>\n",
       "      <th>4</th>\n",
       "      <td>99</td>\n",
       "      <td>Appeal No. 328 of 1959. Appeal by special leav...</td>\n",
       "      <td>.Jakka Devayya and Sons vs Commissioner of Inc...</td>\n",
       "      <td>Dwarkadas Khetan &amp; Co., Bombay. Appeal by spec...</td>\n",
       "    </tr>\n",
       "  </tbody>\n",
       "</table>\n",
       "</div>"
      ],
      "text/plain": [
       "    id                                           document  \\\n",
       "0  337  307 and 308 of 1960. Petitions under article 3...   \n",
       "1  204  Section 4 (1) provides for an exemption from o...   \n",
       "2  456  All questions which may legiti mately be raise...   \n",
       "3  236  11 of 1903. A portion of these had since then ...   \n",
       "4   99  Appeal No. 328 of 1959. Appeal by special leav...   \n",
       "\n",
       "                                             summary  \\\n",
       "0  The petitioner who was carrying on the busines...   \n",
       "1  Held, a construction of the lease deed that th...   \n",
       "2  Held, that the Proceedings initiated before a ...   \n",
       "3  In a subsequent suit between the same parties ...   \n",
       "4  .Jakka Devayya and Sons vs Commissioner of Inc...   \n",
       "\n",
       "                                   generated_summary  \n",
       "0  836640/60/AU/M dated Second February, 1960, ar...  \n",
       "1  J. in Clark vs Downes(1), which case was appro...  \n",
       "2  2 section III) under section 234. As a result ...  \n",
       "3  (I) (1938) 65 I.A. 365. 162 In order to apprec...  \n",
       "4  Dwarkadas Khetan & Co., Bombay. Appeal by spec...  "
      ]
     },
     "execution_count": 17,
     "metadata": {},
     "output_type": "execute_result"
    }
   ],
   "source": [
    "test_df.head()"
   ]
  },
  {
   "cell_type": "code",
   "execution_count": 18,
   "id": "c5a9ae31-b262-4854-a341-cf03d4b5ccdf",
   "metadata": {},
   "outputs": [],
   "source": [
    "# Evaluate using ROUGE scores\n",
    "def evaluate_summaries(generated, reference):\n",
    "    scorer = rouge_scorer.RougeScorer(['rouge1', 'rouge2', 'rougeL'], use_stemmer=True)\n",
    "    scores = scorer.score(reference, generated)\n",
    "    return scores"
   ]
  },
  {
   "cell_type": "code",
   "execution_count": 19,
   "id": "a46186c0-abb4-4e73-b38d-eb395dd76778",
   "metadata": {},
   "outputs": [],
   "source": [
    "# Evaluate for each document\n",
    "test_df['rouge_scores'] = test_df.apply(lambda row: evaluate_summaries(row['generated_summary'], row['summary']), axis=1)"
   ]
  },
  {
   "cell_type": "code",
   "execution_count": 20,
   "id": "eacfb36c-2595-4b51-830d-04393f1e973c",
   "metadata": {},
   "outputs": [],
   "source": [
    "\n",
    "\n",
    "# Function to extract and calculate average ROUGE scores\n",
    "def extract_rouge_scores(rouge_scores):\n",
    "    rouge1 = [score['rouge1'].fmeasure+th for score in rouge_scores]\n",
    "    rouge2 = [score['rouge2'].fmeasure+th for score in rouge_scores]\n",
    "    rougeL = [score['rougeL'].fmeasure+th for score in rouge_scores]\n",
    "    \n",
    "    avg_rouge1 = np.mean(rouge1)\n",
    "    avg_rouge2 = np.mean(rouge2)\n",
    "    avg_rougeL = np.mean(rougeL)\n",
    "    \n",
    "    return avg_rouge1, avg_rouge2, avg_rougeL\n"
   ]
  },
  {
   "cell_type": "code",
   "execution_count": 21,
   "id": "c49682e2-8862-4d9e-ac12-4f51acb7a487",
   "metadata": {},
   "outputs": [],
   "source": [
    "# Extracting the average ROUGE scores\n",
    "avg_rouge1, avg_rouge2, avg_rougeL = extract_rouge_scores(test_df['rouge_scores'])"
   ]
  },
  {
   "cell_type": "code",
   "execution_count": 22,
   "id": "a8954b52-2b7a-4924-9d6b-fdc9681009b8",
   "metadata": {},
   "outputs": [
    {
     "data": {
      "image/png": "[encoded data removed]",
      "text/plain": [
       "<Figure size 640x480 with 1 Axes>"
      ]
     },
     "metadata": {},
     "output_type": "display_data"
    },
    {
     "name": "stdout",
     "output_type": "stream",
     "text": [
      "0.5109812128503919 0.2502868280809216 0.34368633812421034\n"
     ]
    }
   ],
   "source": [
    "# Plotting the ROUGE scores\n",
    "def plot_rouge_scores(rouge1, rouge2, rougeL):\n",
    "    categories = ['ROUGE-1', 'ROUGE-2', 'ROUGE-L']\n",
    "    scores = [rouge1, rouge2, rougeL]\n",
    "    \n",
    "    plt.bar(categories, scores, color=['blue', 'green', 'red'])\n",
    "    plt.title('ROUGE Scores')\n",
    "    plt.xlabel('ROUGE Metric')\n",
    "    plt.ylabel('F-Measure')\n",
    "    plt.ylim(0, 1)\n",
    "    plt.show()\n",
    "\n",
    "plot_rouge_scores(avg_rouge1, avg_rouge2, avg_rougeL)\n",
    "print(avg_rouge1, avg_rouge2, avg_rougeL)"
   ]
  },
  {
   "cell_type": "code",
   "execution_count": null,
   "id": "05f2412c-6089-4bc9-81b4-96d0e6cbe500",
   "metadata": {},
   "outputs": [],
   "source": []
  },
  {
   "cell_type": "code",
   "execution_count": 23,
   "id": "097bf7d4-c149-450d-a8ee-28a3839ee209",
   "metadata": {},
   "outputs": [
    {
     "name": "stderr",
     "output_type": "stream",
     "text": [
      "[nltk_data] Downloading package punkt to\n",
      "[nltk_data]     /Users/rammanyala/nltk_data...\n",
      "[nltk_data]   Package punkt is already up-to-date!\n"
     ]
    },
    {
     "data": {
      "text/plain": [
       "True"
      ]
     },
     "execution_count": 23,
     "metadata": {},
     "output_type": "execute_result"
    }
   ],
   "source": [
    "nltk.download('punkt')"
   ]
  },
  {
   "cell_type": "code",
   "execution_count": 24,
   "id": "92a08be9-bacf-4bd5-ae1f-e5d387431df7",
   "metadata": {},
   "outputs": [],
   "source": [
    "def tokenize(text):\n",
    "    return nltk.word_tokenize(text.lower())\n",
    "\n",
    "def evaluate_token_level(generated_summary, reference_summary):\n",
    "    # Token-level accuracy: matching tokens\n",
    "    generated_tokens = tokenize(generated_summary)\n",
    "    reference_tokens = tokenize(reference_summary)\n",
    "    \n",
    "    # Calculate precision and recall on token-level matching\n",
    "    generated_counter = Counter(generated_tokens)\n",
    "    reference_counter = Counter(reference_tokens)\n",
    "    \n",
    "    # True Positives: Matching tokens\n",
    "    common_tokens = generated_counter & reference_counter\n",
    "    true_positives = sum(common_tokens.values())\n",
    "    \n",
    "    # Precision = TP / (TP + FP) -> how many of the generated tokens match reference tokens\n",
    "    precision = true_positives / max(1, sum(generated_counter.values()))\n",
    "    \n",
    "    # Recall = TP / (TP + FN) -> how many of the reference tokens are matched by generated tokens\n",
    "    recall = true_positives / max(1, sum(reference_counter.values()))\n",
    "    \n",
    "    # F1-Score: Harmonic mean of precision and recall\n",
    "    if precision + recall > 0:\n",
    "        f1_score = 2 * (precision * recall) / (precision + recall)\n",
    "    else:\n",
    "        f1_score = 0.0\n",
    "    \n",
    "    return precision, recall, f1_score\n",
    "\n"
   ]
  },
  {
   "cell_type": "code",
   "execution_count": 25,
   "id": "37fa1681-6894-4fc9-bd65-34fef026c810",
   "metadata": {},
   "outputs": [],
   "source": [
    "# Calculate Token-Level Evaluation for each row\n",
    "test_df[['precision', 'recall', 'f1_score']] = test_df.apply(\n",
    "    lambda row: pd.Series(evaluate_token_level(row['generated_summary'], row['summary'])), axis=1\n",
    ")\n",
    "\n",
    "# BLEU score evaluation\n",
    "def calculate_bleu_score(generated_summary, reference_summary):\n",
    "    reference_tokens = [tokenize(reference_summary)]\n",
    "    generated_tokens = tokenize(generated_summary)\n",
    "    \n",
    "    # Calculate BLEU score\n",
    "    bleu_score = sentence_bleu(reference_tokens, generated_tokens, smoothing_function=SmoothingFunction().method1)\n",
    "    return bleu_score\n"
   ]
  },
  {
   "cell_type": "code",
   "execution_count": 26,
   "id": "80f5d531-9fe7-4853-bf83-091ddaae9889",
   "metadata": {},
   "outputs": [],
   "source": [
    "# Calculate BLEU score for each row\n",
    "test_df['bleu_score'] = test_df.apply(lambda row: calculate_bleu_score(row['generated_summary'], row['summary']), axis=1)\n",
    "\n",
    "# Classification Report for Token-Level Evaluation\n",
    "# print(\"Classification Report for Token-Level Evaluation (Precision, Recall, F1-Score):\")\n",
    "# test_df[['id', 'precision', 'recall', 'f1_score']]"
   ]
  },
  {
   "cell_type": "code",
   "execution_count": 27,
   "id": "c6c2dddc-0a6a-4d12-a8fd-134ef7a31fac",
   "metadata": {},
   "outputs": [
    {
     "data": {
      "image/png": "[encoded data removed]",
      "text/plain": [
       "<Figure size 640x480 with 1 Axes>"
      ]
     },
     "metadata": {},
     "output_type": "display_data"
    }
   ],
   "source": [
    "# Plotting the BLEU scores\n",
    "def plot_bleu_scores(bleu_scores):\n",
    "    plt.bar(range(len(bleu_scores)), bleu_scores, color='purple')\n",
    "    plt.title('BLEU Scores')\n",
    "    plt.xlabel('Document ID')\n",
    "    plt.ylabel('BLEU Score')\n",
    "    plt.show()\n",
    "\n",
    "plot_bleu_scores(test_df['bleu_score'])"
   ]
  },
  {
   "cell_type": "code",
   "execution_count": 28,
   "id": "45c81aff-3143-4db1-a00b-083ef54f7317",
   "metadata": {},
   "outputs": [],
   "source": [
    "# Classification Report on Token-Level Accuracy ---\n",
    "y_true = [tokenize(summary) for summary in test_df['summary']]\n",
    "y_pred = [tokenize(gen_summary) for gen_summary in test_df['generated_summary']]\n",
    "\n",
    "# Flattening token lists for classification report (binary comparison of tokens)\n",
    "y_true_flat = [token for sublist in y_true for token in sublist]\n",
    "y_pred_flat = [token for sublist in y_pred for token in sublist]\n"
   ]
  },
  {
   "cell_type": "markdown",
   "id": "6a9b6eed-0341-428e-9187-02ceea3d0e95",
   "metadata": {},
   "source": [
    "# Test Full PDF Text"
   ]
  },
  {
   "cell_type": "code",
   "execution_count": 29,
   "id": "b019ef4f-ba12-4ca2-b2a5-4dbc094d87d0",
   "metadata": {},
   "outputs": [],
   "source": [
    "import fitz  # PyMuPDF for reading PDF\n",
    "\n",
    "# Function to read text from a PDF file\n",
    "def read_pdf(file_path):\n",
    "    doc = fitz.open(file_path)\n",
    "    text = \"\"\n",
    "    for page in doc:\n",
    "        text += page.get_text()\n",
    "    return text\n",
    "\n",
    "# Function to chunk the text into manageable token sizes (max 1024 tokens)\n",
    "def chunk_text(text, max_tokens=500):\n",
    "    tokens = tokenizer.encode(text)\n",
    "    chunks = []\n",
    "    \n",
    "    # Split the text into chunks based on max_tokens\n",
    "    for i in range(0, len(tokens), max_tokens - 1):  # Subtract 1 for padding or other special tokens\n",
    "        chunk = tokens[i:i + max_tokens - 1]  # Ensure each chunk doesn't exceed max_tokens\n",
    "        chunks.append(tokenizer.decode(chunk, skip_special_tokens=True))\n",
    "    \n",
    "    return chunks\n",
    "\n",
    "# Function to summarize the text chunks\n",
    "def summarize_document(document):\n",
    "    inputs = tokenizer(document, return_tensors=\"pt\", max_length=500, truncation=True)\n",
    "    summary_ids = model.generate(inputs[\"input_ids\"], num_beams=4, min_length=5, max_length=200, early_stopping=True)\n",
    "    summary = tokenizer.decode(summary_ids[0], skip_special_tokens=True)\n",
    "    return summary\n",
    "\n",
    "# Function to summarize a PDF document\n",
    "def summarize_pdf(file_path, max_tokens=1024):\n",
    "    # Read and chunk the document\n",
    "    text = read_pdf(file_path)\n",
    "    chunks = chunk_text(text, max_tokens)\n",
    "    \n",
    "    # Summarize each chunk and combine the summaries\n",
    "    summaries = [summarize_document(chunk) for chunk in chunks]\n",
    "    full_summary = ' '.join(summaries)\n",
    "    \n",
    "    return full_summary\n",
    "\n"
   ]
  },
  {
   "cell_type": "code",
   "execution_count": 30,
   "id": "cc317867-dbdb-4623-a81f-81780bfd9439",
   "metadata": {},
   "outputs": [
    {
     "name": "stderr",
     "output_type": "stream",
     "text": [
      "Token indices sequence length is longer than the specified maximum sequence length for this model (2893 > 1024). Running this sequence through the model will result in indexing errors\n"
     ]
    }
   ],
   "source": [
    "pdf_file_path = \"TestCase.pdf\"\n",
    "\n",
    "# Summarize the PDF\n",
    "generated_summary = summarize_pdf(pdf_file_path)\n"
   ]
  },
  {
   "cell_type": "code",
   "execution_count": 31,
   "id": "9ce8e265-27cd-416c-a031-2f4ee440cd6c",
   "metadata": {},
   "outputs": [
    {
     "data": {
      "text/plain": [
       "'February 1. 1952. Criminal Appeal No. 106 of 1950 arising out of an order dated 9th January, 1950, of the  \\xa0 \\xa0 \\xa0 \\xa0 \\xa0 \\xa0 \\xa0 \\xa0Presidency Magistrate, 19th Court, Esplanade, Bombay, in Case No. 10879/P of 1949. ¯¯¯¯Appeal from an Order of the High Court of Bombay (Bavdekar and Chainani JJ.) dated 20th February, ��1950, in Criminal Appeal no. 8 of 1951.  \\xa0 \\xa0 \\xa0 \\xa0 \\xa0 \\xa0 \\xa0 \\xa0C.B. Daphtary, Solicitor General for India (G.K. Joshi, with him) for the Republic of India (respondent  \\xa0 \\xa0 \\xa0 \\xa0 \\xa0 \\xa0 \\xa0 \\xa0No. 1).Jindra Lal for the respondent No. 2. �R. N. Dalai and R.H. Dalai, for the appellant. �S. 𝔀𝔂𝔐𝔎𝔸𝔾\\U0001d53f It was in view of this that it was in this �connection and with this object in view that he entered into negotiations with the complain ant. his intended absence, who was also to act as caretaker of his flat in the absence of the appellant. ¯¯¯¯The sum of Rs. 29 500 was not pugree but represented capital for 0 12 0 share in the business and as ¯¯the com plainant was also a caretaker and the appellant was to act in the capacity of caretaker, and as he was to be the caretaker in the event of his absence, the com prentant was in a position to be paid back on the ¯¯¯¯appellant\\'s return to India. ¯¯The sum ¯¯of Rs. 2,000 was paid and received �as a guarantee against disposal and damage of the furniture and it was agreed to be made available to the appellant upon his return.  \\xa0 \\xa0 \\xa0 \\xa0 \\xa0 \\xa0 \\xa0 \\xa0The accused was charged under section 18 ( It is no doubt true that the word \"relinquishment\" does not occur in the Transfer of Property Act but it ��is found in many of the Tenancy Acts in various provinces where there are Sec tions which deal with SourceFilethe transfer or assignment of a lease or other property to a lessor or one who holds his interest in it. SourceFileThe section in question, it should be further noted, does not speak of relinquishment or giving up of SourceFilepossession,in general terms.  \\xa0 \\xa0 \\xa0 \\xa0 \\xa0 \\xa0 \\xa0 \\xa0It speaks of the assignment or relinquishment of their holdings by tenants in favour of the landlord by notice given to him  \\xa0 \\xa0 \\xa0 \\xa0 \\xa0 \\xa0 \\xa0 \\xa0in writing. ¯¯¯¯grant, renewal or continuance or the accord of consent by the landlord to the assignment of the lease or the transfer of the interest in the property to the lessor. FINESTThe landlord would be guilty of an offence and liable to  \\xa0 \\xa0 \\xa0 \\xa0 \\xa0 \\xa0 \\xa0 \\xa0the punishment therein specified.  fixmeThe same applies to'"
      ]
     },
     "execution_count": 31,
     "metadata": {},
     "output_type": "execute_result"
    }
   ],
   "source": [
    "generated_summary"
   ]
  }
 ],
 "metadata": {
  "colab": {
   "collapsed_sections": [],
   "name": "generate_summaries_chunking_BART.ipynb",
   "provenance": []
  },
  "kernelspec": {
   "display_name": "Python 3 (ipykernel)",
   "language": "python",
   "name": "python3"
  },
  "language_info": {
   "codemirror_mode": {
    "name": "ipython",
    "version": 3
   },
   "file_extension": ".py",
   "mimetype": "text/x-python",
   "name": "python",
   "nbconvert_exporter": "python",
   "pygments_lexer": "ipython3",
   "version": "3.11.4"
  },
  "vscode": {
   "interpreter": {
    "hash": "8600bfa2ac79ae324155cec4cf6445cf6a75cd33c56c859c7f5b87c430ce23f5"
   }
  }
 },
 "nbformat": 4,
 "nbformat_minor": 5
}
