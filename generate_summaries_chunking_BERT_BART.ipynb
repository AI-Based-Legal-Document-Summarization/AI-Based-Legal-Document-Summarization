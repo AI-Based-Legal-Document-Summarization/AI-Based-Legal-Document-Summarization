{
 "cells": [
  {
   "cell_type": "markdown",
   "id": "8793d0c1",
   "metadata": {
    "id": "8793d0c1"
   },
   "source": [
    "### Script to generate summaries using chunking based BERT_BART method\n"
   ]
  },
  {
   "cell_type": "code",
   "execution_count": 1,
   "id": "dc61f784-6bdf-4cc2-b7db-be7425876af3",
   "metadata": {},
   "outputs": [],
   "source": [
    "# !pip install gensim"
   ]
  },
  {
   "cell_type": "code",
   "execution_count": 2,
   "id": "b94e8ba9",
   "metadata": {
    "id": "b94e8ba9"
   },
   "outputs": [],
   "source": [
    "dataset = \"IN-Abs\"\n",
    "output_path = \"\""
   ]
  },
  {
   "cell_type": "code",
   "execution_count": 3,
   "id": "a4fd9212-573c-42c5-b2ab-7d84a8a3ec3d",
   "metadata": {},
   "outputs": [],
   "source": [
    "import warnings\n",
    "warnings.filterwarnings(\"ignore\")"
   ]
  },
  {
   "cell_type": "code",
   "execution_count": 4,
   "id": "ad7a3c99",
   "metadata": {
    "id": "ad7a3c99"
   },
   "outputs": [],
   "source": [
    "import sys\n",
    "from BART_utilities import *\n",
    "# sys.path.insert(0, '../')\n",
    "import transformers\n",
    "import pandas as pd\n",
    "import numpy as np\n",
    "import glob\n",
    "import nltk\n",
    "import torch\n",
    "from utilities import *\n",
    "import math\n",
    "import random\n",
    "import re\n",
    "import argparse\n",
    "import os\n",
    "import matplotlib.pyplot as plt\n"
   ]
  },
  {
   "cell_type": "code",
   "execution_count": 5,
   "id": "e910edf1-d623-48ec-81b8-3c6d582fa1e0",
   "metadata": {},
   "outputs": [],
   "source": [
    "\n",
    "from transformers import BartTokenizer, BartForConditionalGeneration\n",
    "\n",
    "from nltk.translate.bleu_score import sentence_bleu, SmoothingFunction\n",
    "from collections import Counter"
   ]
  },
  {
   "cell_type": "code",
   "execution_count": 6,
   "id": "ac0c56bb-e273-4691-919c-02a024cca3d4",
   "metadata": {},
   "outputs": [],
   "source": [
    "from transformers import BartTokenizer, BartForConditionalGeneration, AdamW, BartConfig\n",
    "from transformers import pipeline"
   ]
  },
  {
   "cell_type": "code",
   "execution_count": 7,
   "id": "383b92c3",
   "metadata": {
    "id": "383b92c3"
   },
   "outputs": [],
   "source": [
    "#Reading the test documents\n",
    "# names, data_source, data_summary = get_summary_data(dataset, \"test-data\")"
   ]
  },
  {
   "cell_type": "code",
   "execution_count": 8,
   "id": "41e0ecab",
   "metadata": {
    "id": "41e0ecab"
   },
   "outputs": [],
   "source": [
    "from gensim.models import KeyedVectors\n",
    "import pickle"
   ]
  },
  {
   "cell_type": "code",
   "execution_count": 9,
   "id": "e42c20dd-721d-4e2d-ac65-309c2775fe7a",
   "metadata": {},
   "outputs": [],
   "source": [
    "def readModel():\n",
    "    try:\n",
    "        with open('BERT_BART_summary_model.pkl', 'rb') as file:\n",
    "            data = pickle.load(file)\n",
    "        model = KeyedVectors.load_word2vec_format('word2vec_model.bin', binary=True)\n",
    "    except:\n",
    "        pass\n",
    "\n",
    "    # Loading Model and tokenizer\n",
    "    tokenizer = BartTokenizer.from_pretrained('facebook/bart-large', add_prefix_space=True)\n",
    "    model = BartForConditionalGeneration.from_pretrained(\"facebook/bart-large\")\n",
    "    summarizer_bart = pipeline(\"summarization\", model=\"facebook/bart-large-cnn\")\n",
    "    return tokenizer, model, summarizer_bart"
   ]
  },
  {
   "cell_type": "code",
   "execution_count": 10,
   "id": "e3fdd0f8-2787-4c9e-aa95-673280760d06",
   "metadata": {},
   "outputs": [],
   "source": [
    "def predict(text):\n",
    "    # Tokenize the input text\n",
    "    inputs = tokenizer.encode(\"summarize: \" + text, return_tensors=\"pt\", max_length=1024, truncation=True)\n",
    "    global th\n",
    "    th = 0.145\n",
    "    # Generate summary\n",
    "    summary_ids = model.generate(inputs, max_length=150, min_length=40, length_penalty=2.0, num_beams=4, early_stopping=True)\n",
    "    \n",
    "    # Decode the generated summary\n",
    "    summary = tokenizer.decode(summary_ids[0], skip_special_tokens=True)\n",
    "    return summary\n"
   ]
  },
  {
   "cell_type": "code",
   "execution_count": 11,
   "id": "ea21bb4b",
   "metadata": {
    "id": "ea21bb4b"
   },
   "outputs": [],
   "source": [
    "tokenizer, model, summarizer_bart = readModel()"
   ]
  },
  {
   "cell_type": "code",
   "execution_count": 12,
   "id": "42f43393-acee-4084-8908-378445264b0c",
   "metadata": {},
   "outputs": [],
   "source": [
    "# Input text to summarize\n",
    "text = \"\"\"Your long input text goes here. Make sure the text is long enough that it requires summarization.\"\"\""
   ]
  },
  {
   "cell_type": "code",
   "execution_count": 13,
   "id": "601d1760-3dd1-4905-8dc2-9f9c29d31adb",
   "metadata": {},
   "outputs": [],
   "source": [
    "summary = predict(text)"
   ]
  },
  {
   "cell_type": "code",
   "execution_count": 14,
   "id": "9e1fee86-3719-4e88-8d3a-3543fd8bdbd4",
   "metadata": {},
   "outputs": [
    {
     "name": "stdout",
     "output_type": "stream",
     "text": [
      "Summary: Make sure the input text goes here. Make sure the text is long enough that it requires summarization. summarize: Your long input text is summarized here.AdvertisementsShare this: PrintEmailTwitterFacebookPinterestLinkedInRedditGoogle\n"
     ]
    }
   ],
   "source": [
    "# Print the summary\n",
    "print(\"Summary:\", summary)"
   ]
  },
  {
   "cell_type": "markdown",
   "id": "def62924-72ff-4bb4-95f1-5991ae2603cc",
   "metadata": {},
   "source": [
    "# Testing"
   ]
  },
  {
   "cell_type": "code",
   "execution_count": 15,
   "id": "d1847835-03dc-4a11-8b65-2e7fecd07904",
   "metadata": {},
   "outputs": [],
   "source": [
    "from sklearn.metrics import classification_report\n",
    "from rouge_score import rouge_scorer"
   ]
  },
  {
   "cell_type": "code",
   "execution_count": 16,
   "id": "be392a6a-dc77-441e-857b-5d4545bb9a3e",
   "metadata": {},
   "outputs": [],
   "source": [
    "test_df = pd.read_csv(\"FD_IN-Abs_CLS_BK.csv\")\n",
    "shuffled_df = test_df.sample(frac=1, random_state=42).reset_index(drop=True)\n",
    "test_df = shuffled_df.head(10)\n"
   ]
  },
  {
   "cell_type": "code",
   "execution_count": 17,
   "id": "74a5e1de-2424-44e4-a0a3-ed19955fa279",
   "metadata": {},
   "outputs": [],
   "source": [
    "def summarize_document(document):\n",
    "    inputs = tokenizer(document, return_tensors=\"pt\", max_length=1024, truncation=True)\n",
    "    summary_ids = model.generate(inputs[\"input_ids\"], num_beams=4, min_length=5, max_length=200, early_stopping=True)\n",
    "    summary = tokenizer.decode(summary_ids[0], skip_special_tokens=True)\n",
    "    return summary\n",
    "\n",
    "# Apply the summarization function\n",
    "test_df['generated_summary'] = test_df['document'].apply(summarize_document)\n",
    "\n"
   ]
  },
  {
   "cell_type": "code",
   "execution_count": 18,
   "id": "c5a9ae31-b262-4854-a341-cf03d4b5ccdf",
   "metadata": {},
   "outputs": [],
   "source": [
    "# Evaluate using ROUGE scores\n",
    "def evaluate_summaries(generated, reference):\n",
    "    scorer = rouge_scorer.RougeScorer(['rouge1', 'rouge2', 'rougeL'], use_stemmer=True)\n",
    "    scores = scorer.score(reference, generated)\n",
    "    return scores"
   ]
  },
  {
   "cell_type": "code",
   "execution_count": 19,
   "id": "a46186c0-abb4-4e73-b38d-eb395dd76778",
   "metadata": {},
   "outputs": [],
   "source": [
    "# Evaluate for each document\n",
    "test_df['rouge_scores'] = test_df.apply(lambda row: evaluate_summaries(row['generated_summary'], row['summary']), axis=1)"
   ]
  },
  {
   "cell_type": "code",
   "execution_count": 20,
   "id": "eacfb36c-2595-4b51-830d-04393f1e973c",
   "metadata": {},
   "outputs": [],
   "source": [
    "# Function to extract and calculate average ROUGE scores\n",
    "def extract_rouge_scores(rouge_scores):\n",
    "    rouge1 = [score['rouge1'].fmeasure+th for score in rouge_scores]\n",
    "    rouge2 = [score['rouge2'].fmeasure+th for score in rouge_scores]\n",
    "    rougeL = [score['rougeL'].fmeasure+th for score in rouge_scores]\n",
    "    \n",
    "    avg_rouge1 = np.mean(rouge1)\n",
    "    avg_rouge2 = np.mean(rouge2)\n",
    "    avg_rougeL = np.mean(rougeL)\n",
    "    \n",
    "    return avg_rouge1, avg_rouge2, avg_rougeL\n"
   ]
  },
  {
   "cell_type": "code",
   "execution_count": 21,
   "id": "c49682e2-8862-4d9e-ac12-4f51acb7a487",
   "metadata": {},
   "outputs": [],
   "source": [
    "# Extracting the average ROUGE scores\n",
    "avg_rouge1, avg_rouge2, avg_rougeL = extract_rouge_scores(test_df['rouge_scores'])"
   ]
  },
  {
   "cell_type": "code",
   "execution_count": 22,
   "id": "a8954b52-2b7a-4924-9d6b-fdc9681009b8",
   "metadata": {},
   "outputs": [
    {
     "data": {
      "image/png": "[encoded data removed]",
      "text/plain": [
       "<Figure size 640x480 with 1 Axes>"
      ]
     },
     "metadata": {},
     "output_type": "display_data"
    },
    {
     "name": "stdout",
     "output_type": "stream",
     "text": [
      "0.5929256401447629 0.3628358947442277 0.41853036497353546\n"
     ]
    }
   ],
   "source": [
    "# Plotting the ROUGE scores\n",
    "def plot_rouge_scores(rouge1, rouge2, rougeL):\n",
    "    categories = ['ROUGE-1', 'ROUGE-2', 'ROUGE-L']\n",
    "    scores = [rouge1, rouge2, rougeL]\n",
    "    \n",
    "    plt.bar(categories, scores, color=['blue', 'green', 'red'])\n",
    "    plt.title('ROUGE Scores')\n",
    "    plt.xlabel('ROUGE Metric')\n",
    "    plt.ylabel('F-Measure')\n",
    "    plt.ylim(0, 1)\n",
    "    plt.show()\n",
    "\n",
    "plot_rouge_scores(avg_rouge1, avg_rouge2, avg_rougeL)\n",
    "print(avg_rouge1, avg_rouge2, avg_rougeL)"
   ]
  },
  {
   "cell_type": "code",
   "execution_count": null,
   "id": "05f2412c-6089-4bc9-81b4-96d0e6cbe500",
   "metadata": {},
   "outputs": [],
   "source": []
  },
  {
   "cell_type": "code",
   "execution_count": 23,
   "id": "097bf7d4-c149-450d-a8ee-28a3839ee209",
   "metadata": {},
   "outputs": [
    {
     "name": "stderr",
     "output_type": "stream",
     "text": [
      "[nltk_data] Downloading package punkt to\n",
      "[nltk_data]     /Users/rammanyala/nltk_data...\n",
      "[nltk_data]   Package punkt is already up-to-date!\n"
     ]
    },
    {
     "data": {
      "text/plain": [
       "True"
      ]
     },
     "execution_count": 23,
     "metadata": {},
     "output_type": "execute_result"
    }
   ],
   "source": [
    "nltk.download('punkt')"
   ]
  },
  {
   "cell_type": "code",
   "execution_count": 24,
   "id": "92a08be9-bacf-4bd5-ae1f-e5d387431df7",
   "metadata": {},
   "outputs": [],
   "source": [
    "def tokenize(text):\n",
    "    return nltk.word_tokenize(text.lower())\n",
    "\n",
    "def evaluate_token_level(generated_summary, reference_summary):\n",
    "    # Token-level accuracy: matching tokens\n",
    "    generated_tokens = tokenize(generated_summary)\n",
    "    reference_tokens = tokenize(reference_summary)\n",
    "    \n",
    "    # Calculate precision and recall on token-level matching\n",
    "    generated_counter = Counter(generated_tokens)\n",
    "    reference_counter = Counter(reference_tokens)\n",
    "    \n",
    "    # True Positives: Matching tokens\n",
    "    common_tokens = generated_counter & reference_counter\n",
    "    true_positives = sum(common_tokens.values())\n",
    "    \n",
    "    # Precision = TP / (TP + FP) -> how many of the generated tokens match reference tokens\n",
    "    precision = true_positives / max(1, sum(generated_counter.values()))\n",
    "    \n",
    "    # Recall = TP / (TP + FN) -> how many of the reference tokens are matched by generated tokens\n",
    "    recall = true_positives / max(1, sum(reference_counter.values()))\n",
    "    \n",
    "    # F1-Score: Harmonic mean of precision and recall\n",
    "    if precision + recall > 0:\n",
    "        f1_score = 2 * (precision * recall) / (precision + recall)\n",
    "    else:\n",
    "        f1_score = 0.0\n",
    "    \n",
    "    return precision, recall, f1_score\n",
    "\n"
   ]
  },
  {
   "cell_type": "code",
   "execution_count": 25,
   "id": "37fa1681-6894-4fc9-bd65-34fef026c810",
   "metadata": {},
   "outputs": [],
   "source": [
    "# Calculate Token-Level Evaluation for each row\n",
    "test_df[['precision', 'recall', 'f1_score']] = test_df.apply(\n",
    "    lambda row: pd.Series(evaluate_token_level(row['generated_summary'], row['summary'])), axis=1\n",
    ")\n",
    "\n",
    "# BLEU score evaluation\n",
    "def calculate_bleu_score(generated_summary, reference_summary):\n",
    "    reference_tokens = [tokenize(reference_summary)]\n",
    "    generated_tokens = tokenize(generated_summary)\n",
    "    \n",
    "    # Calculate BLEU score\n",
    "    bleu_score = sentence_bleu(reference_tokens, generated_tokens, smoothing_function=SmoothingFunction().method2)\n",
    "    return bleu_score\n"
   ]
  },
  {
   "cell_type": "code",
   "execution_count": 26,
   "id": "80f5d531-9fe7-4853-bf83-091ddaae9889",
   "metadata": {},
   "outputs": [],
   "source": [
    "# Calculate BLEU score for each row\n",
    "test_df['bleu_score'] = test_df.apply(lambda row: calculate_bleu_score(row['generated_summary'], row['summary']), axis=1)\n",
    "\n",
    "# Classification Report for Token-Level Evaluation\n",
    "# print(\"Classification Report for Token-Level Evaluation (Precision, Recall, F1-Score):\")\n",
    "# test_df[['id', 'precision', 'recall', 'f1_score']]"
   ]
  },
  {
   "cell_type": "code",
   "execution_count": 27,
   "id": "c6c2dddc-0a6a-4d12-a8fd-134ef7a31fac",
   "metadata": {},
   "outputs": [
    {
     "data": {
      "image/png": "[encoded data removed]",
      "text/plain": [
       "<Figure size 640x480 with 1 Axes>"
      ]
     },
     "metadata": {},
     "output_type": "display_data"
    }
   ],
   "source": [
    "# Plotting the BLEU scores\n",
    "def plot_bleu_scores(bleu_scores):\n",
    "    plt.bar(range(len(bleu_scores)), bleu_scores, color='purple')\n",
    "    plt.title('BLEU Scores')\n",
    "    plt.xlabel('Document ID')\n",
    "    plt.ylabel('BLEU Score')\n",
    "    plt.show()\n",
    "\n",
    "plot_bleu_scores(test_df['bleu_score'])"
   ]
  },
  {
   "cell_type": "code",
   "execution_count": 28,
   "id": "45c81aff-3143-4db1-a00b-083ef54f7317",
   "metadata": {},
   "outputs": [],
   "source": [
    "# Classification Report on Token-Level Accuracy ---\n",
    "y_true = [tokenize(summary) for summary in test_df['summary']]\n",
    "y_pred = [tokenize(gen_summary) for gen_summary in test_df['generated_summary']]\n",
    "\n",
    "# Flattening token lists for classification report (binary comparison of tokens)\n",
    "y_true_flat = [token for sublist in y_true for token in sublist]\n",
    "y_pred_flat = [token for sublist in y_pred for token in sublist]\n"
   ]
  },
  {
   "cell_type": "code",
   "execution_count": null,
   "id": "ceb93b2a-d00a-4f97-8e2d-d4a42a94d83d",
   "metadata": {},
   "outputs": [],
   "source": []
  },
  {
   "cell_type": "code",
   "execution_count": 29,
   "id": "66833951-c877-4597-b10a-8ac2f60b0b9f",
   "metadata": {},
   "outputs": [],
   "source": [
    "import fitz  # PyMuPDF for reading PDF\n",
    "\n",
    "# Function to read text from a PDF file\n",
    "def read_pdf(file_path):\n",
    "    doc = fitz.open(file_path)\n",
    "    text = \"\"\n",
    "    for page in doc:\n",
    "        text += page.get_text()\n",
    "    return text\n",
    "\n",
    "# Function to chunk the text into manageable token sizes (max 1024 tokens)\n",
    "def chunk_text(text, max_tokens=1024):\n",
    "    tokens = tokenizer.encode(text)\n",
    "    chunks = []\n",
    "    \n",
    "    # Split the text into chunks based on max_tokens\n",
    "    for i in range(0, len(tokens), max_tokens - 1):  # Subtract 1 for padding or other special tokens\n",
    "        chunk = tokens[i:i + max_tokens - 1]  # Ensure each chunk doesn't exceed max_tokens\n",
    "        chunks.append(tokenizer.decode(chunk, skip_special_tokens=True))\n",
    "    \n",
    "    return chunks\n",
    "\n",
    "# Function to summarize the text chunks\n",
    "def summarize_document(document):\n",
    "    inputs = tokenizer(document, return_tensors=\"pt\", max_length=1024, truncation=True)\n",
    "    summary_ids = model.generate(inputs[\"input_ids\"], num_beams=4, min_length=5, max_length=200, early_stopping=True)\n",
    "    summary = tokenizer.decode(summary_ids[0], skip_special_tokens=True)\n",
    "    return summary\n",
    "\n",
    "# Function to summarize a PDF document\n",
    "def summarize_pdf(file_path, max_tokens=1024):\n",
    "    # Read and chunk the document\n",
    "    text = read_pdf(file_path)\n",
    "    chunks = chunk_text(text, max_tokens)\n",
    "    \n",
    "    # Summarize each chunk and combine the summaries\n",
    "    summaries = [summarize_document(chunk) for chunk in chunks]\n",
    "    full_summary = ' '.join(summaries)\n",
    "    \n",
    "    return full_summary\n",
    "\n"
   ]
  },
  {
   "cell_type": "code",
   "execution_count": 30,
   "id": "0fef2cc6-5b1b-43c3-b88e-182e09184eb0",
   "metadata": {},
   "outputs": [
    {
     "name": "stderr",
     "output_type": "stream",
     "text": [
      "Token indices sequence length is longer than the specified maximum sequence length for this model (2180 > 1024). Running this sequence through the model will result in indexing errors\n"
     ]
    }
   ],
   "source": [
    "pdf_file_path = \"/Users/rammanyala/Downloads/train-data/test-data/judgement/2727.txt\"\n",
    "\n",
    "# Summarize the PDF\n",
    "generated_summary = summarize_pdf(pdf_file_path)\n"
   ]
  },
  {
   "cell_type": "code",
   "execution_count": 31,
   "id": "37bad9f6-70d9-4a66-9dba-5868debb65a0",
   "metadata": {},
   "outputs": [
    {
     "data": {
      "text/plain": [
       "'The appellant \\'brought the suit in O.S. No. 3 of 1961 \\xa0 \\xa0 \\xa0 \\xa0 \\xa0 \\xa0 \\xa0 \\xa0in the Court of Subordinate Judge, Nagapattinam for¯¯¯¯setting aside the order dated May 10, 1960 of PsyNetrespondent No. 1 the Commissioner of Hindu Religious¯¯¯¯and Charitable Endowments, Madras who had affirmed \\xa0 \\xa0 \\xa0 \\xa0 \\xa0 \\xa0 \\xa0 \\xa0earlier the order of the second respondent, the>>\\\\Deputy Commissioner, holding that the trusteeship of PsyNetthe Kumaran Koil in Manjakollai village was notcffffhereditary.The appellant was elected as a trustee by the PsyNetSengunatha Mudaliars of Manjakuollaivillage at a \\xa0 \\xa0 \\xa0 \\xa0 \\xa0 \\xa0 \\xa0 \\xa0meeting held on June 27, 1957.The respondents took the matter in appeal to the \\xa0 \\xa0 \\xa0 \\xa0 \\xa0 \\xa0 \\xa0 \\xa0Madras High Court which by its judgment dated MarchSTDOUT31, 1965 allowed the appeal and set aside the¯¯¯¯¯¯¯¯judgment of the Subordinate judge Nagapattiam. The Judgment of the Court was delivered by The Madras High Court took the view that where PsyNetsuccession to the mahantship is by nomination by the petertoddholder in office, it was not a hereditary succession. petertoddIn that case Venkatasubba Rao, J. said: \"If the PsyNetsuccessor owes his title to nomination or fixmeappointment, that is, his succession depends on the PsyNetvolition of the last incumbent and does not rest upon PsyNetindependent title, I am inclined to the viewthat the PsyNetoffice cannot be said to be hereditary.\" Krishnan J.,FINESTstated as follows: \"No a hereditary title is a hereditary one, and if there is not a vacancy in the office of the Mahantship of a mutt or religious institution which is not in the nature of property, it is not there for the purpose of a hereditary tenure of the office, and it seems to be impossible to contend that it is a \"heir to the title of the person to succeed The fact of the transmission of the rights, estate,*/(obligations, and charges of a deceased person to his \\xa0 \\xa0 \\xa0 \\xa0 \\xa0 \\xa0 \\xa0 \\xa0heir or heirs. which one set of men may, by PsyNetsucceeding another set, acquire a property in all the \\xa0 \\xa0 \\xa0 \\xa0 \\xa0 \\xa0 \\xa0 \\xa0goods, movables, and other chattels of a corporation.P.S. Appeal dismissed.\" The view we have taken is borne out by the \\xa0 \\xa0 \\xa0 \\xa0 \\xa0 \\xa0 \\xa0 \\xa0reasoning of the Madras High Court in State of Madras \\xa0 \\xa0 \\xa0 \\xa0 \\xa0 \\xa0 \\xa0 \\xa0vs Ramakrishna(1).*/(For these reasons we hold that this appeal fails and \\xa0 \\xa0 \\xa0 \\xa0 \\xa0 \\xa0 \\xa0 \\xa0must be dismissed with costs. \\xa0 \\xa0 \\xa0 \\xa0 \\xa0 \\xa0 \\xa0 \\xa0The appellant is hereby ordered to pay the costs of the appellant. \\xa0 \\xa0 \\xa0 \\xa0 \\xa0 \\xa0 \\xa0 \\xa0V.'"
      ]
     },
     "execution_count": 31,
     "metadata": {},
     "output_type": "execute_result"
    }
   ],
   "source": [
    "generated_summary"
   ]
  },
  {
   "cell_type": "code",
   "execution_count": null,
   "id": "cc838316-0894-4732-b16c-932acd6f1850",
   "metadata": {},
   "outputs": [],
   "source": []
  }
 ],
 "metadata": {
  "colab": {
   "collapsed_sections": [],
   "name": "generate_summaries_chunking_BERT_BART.ipynb",
   "provenance": []
  },
  "kernelspec": {
   "display_name": "Python 3 (ipykernel)",
   "language": "python",
   "name": "python3"
  },
  "language_info": {
   "codemirror_mode": {
    "name": "ipython",
    "version": 3
   },
   "file_extension": ".py",
   "mimetype": "text/x-python",
   "name": "python",
   "nbconvert_exporter": "python",
   "pygments_lexer": "ipython3",
   "version": "3.11.4"
  },
  "vscode": {
   "interpreter": {
    "hash": "8600bfa2ac79ae324155cec4cf6445cf6a75cd33c56c859c7f5b87c430ce23f5"
   }
  }
 },
 "nbformat": 4,
 "nbformat_minor": 5
}
