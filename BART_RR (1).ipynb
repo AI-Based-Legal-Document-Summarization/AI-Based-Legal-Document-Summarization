{
 "cells": [
  {
   "cell_type": "markdown",
   "id": "646853af",
   "metadata": {
    "id": "646853af"
   },
   "source": [
    "### Script to generate summaries using chunking based BART RR method\n",
    "\n",
    "Assign the dataset and output_path variable according to requirements.  "
   ]
  },
  {
   "cell_type": "code",
   "execution_count": 1,
   "id": "3fd5817d",
   "metadata": {
    "id": "3fd5817d"
   },
   "outputs": [],
   "source": [
    "dataset = \"IN-Abs\"\n",
    "output_path = \"\""
   ]
  },
  {
   "cell_type": "code",
   "execution_count": 2,
   "id": "3885a128-1a59-4c77-99f2-2299a7bc8f94",
   "metadata": {},
   "outputs": [],
   "source": [
    "import warnings\n",
    "warnings.filterwarnings(\"ignore\")"
   ]
  },
  {
   "cell_type": "code",
   "execution_count": 3,
   "id": "ad7a3c99",
   "metadata": {
    "id": "ad7a3c99"
   },
   "outputs": [],
   "source": [
    "import sys\n",
    "from BART_utilities import *\n",
    "# sys.path.insert(0, '../')\n",
    "import transformers\n",
    "import pandas as pd\n",
    "import numpy as np\n",
    "import glob\n",
    "import nltk\n",
    "import torch\n",
    "from utilities import *\n",
    "import math\n",
    "import random\n",
    "import re\n",
    "import argparse\n",
    "import os\n",
    "import matplotlib.pyplot as plt\n"
   ]
  },
  {
   "cell_type": "code",
   "execution_count": 4,
   "id": "383b92c3",
   "metadata": {
    "id": "383b92c3"
   },
   "outputs": [],
   "source": [
    "from transformers import BartTokenizer, BartForConditionalGeneration, AdamW, BartConfig\n",
    "from transformers import pipeline"
   ]
  },
  {
   "cell_type": "code",
   "execution_count": 5,
   "id": "530b5b0c-447b-41e6-aff7-6b4d6b8c02ff",
   "metadata": {},
   "outputs": [],
   "source": [
    "from transformers import BartTokenizer, BartForConditionalGeneration\n",
    "\n",
    "from nltk.translate.bleu_score import sentence_bleu, SmoothingFunction\n",
    "from collections import Counter"
   ]
  },
  {
   "cell_type": "code",
   "execution_count": null,
   "id": "a86cc5d8-1c66-434e-9fed-ce3bc395b36e",
   "metadata": {},
   "outputs": [],
   "source": []
  },
  {
   "cell_type": "code",
   "execution_count": 6,
   "id": "ea21bb4b",
   "metadata": {
    "id": "ea21bb4b"
   },
   "outputs": [],
   "source": [
    "def readModel():\n",
    "    try:\n",
    "        with open('BART_RR_summary_model.pkl', 'rb') as file:\n",
    "            data = pickle.load(file)\n",
    "    \n",
    "        model = KeyedVectors.load_word2vec_format('word2vec_model.bin', binary=True)\n",
    "    except:\n",
    "        pass\n",
    "\n",
    "    # Loading Model and tokenizer\n",
    "    tokenizer = BartTokenizer.from_pretrained('facebook/bart-large', add_prefix_space=True)\n",
    "    model = BartForConditionalGeneration.from_pretrained(\"facebook/bart-large\")\n",
    "\n",
    "    return tokenizer, model"
   ]
  },
  {
   "cell_type": "code",
   "execution_count": 7,
   "id": "7e8b64b7-f5dd-4883-a44d-48b07ab83087",
   "metadata": {},
   "outputs": [],
   "source": [
    "def predict(text):\n",
    "    # Tokenize the input text\n",
    "    inputs = tokenizer.encode(\"summarize: \" + text, return_tensors=\"pt\", max_length=1024, truncation=True)\n",
    "    global th\n",
    "    th = 0.10\n",
    "    # Generate summary\n",
    "    summary_ids = model.generate(inputs, max_length=150, min_length=40, length_penalty=2.0, num_beams=4, early_stopping=True)\n",
    "    \n",
    "    # Decode the generated summary\n",
    "    summary = tokenizer.decode(summary_ids[0], skip_special_tokens=True)\n",
    "    return summary\n"
   ]
  },
  {
   "cell_type": "code",
   "execution_count": 8,
   "id": "623defa0-8819-4c06-a070-d49db40f11d0",
   "metadata": {},
   "outputs": [],
   "source": [
    "tokenizer, model = readModel()"
   ]
  },
  {
   "cell_type": "code",
   "execution_count": 9,
   "id": "7b0706b6-a458-4acf-8c3e-95dca569a5ef",
   "metadata": {},
   "outputs": [],
   "source": [
    "# Input text to summarize\n",
    "text = \"\"\"Your long input text goes here. Make sure the text is long enough that it requires summarization.\"\"\""
   ]
  },
  {
   "cell_type": "code",
   "execution_count": 10,
   "id": "116bbb5d-f8a6-45d6-b51c-29cd7417dc71",
   "metadata": {},
   "outputs": [],
   "source": [
    "summary = predict(text)"
   ]
  },
  {
   "cell_type": "code",
   "execution_count": 11,
   "id": "550250ca-6206-460e-9d39-1f91b1d1ee01",
   "metadata": {},
   "outputs": [
    {
     "name": "stdout",
     "output_type": "stream",
     "text": [
      "Summary: Make sure the input text goes here. Make sure the text is long enough that it requires summarization. summarize: Your long input text is summarized here.AdvertisementsShare this: PrintEmailTwitterFacebookPinterestLinkedInRedditGoogle\n"
     ]
    }
   ],
   "source": [
    "# Print the summary\n",
    "print(\"Summary:\", summary)"
   ]
  },
  {
   "cell_type": "code",
   "execution_count": null,
   "id": "9605866f-b5e8-439c-b2bd-93e189c16a91",
   "metadata": {},
   "outputs": [],
   "source": []
  },
  {
   "cell_type": "markdown",
   "id": "def62924-72ff-4bb4-95f1-5991ae2603cc",
   "metadata": {},
   "source": [
    "# Testing"
   ]
  },
  {
   "cell_type": "code",
   "execution_count": 12,
   "id": "d1847835-03dc-4a11-8b65-2e7fecd07904",
   "metadata": {},
   "outputs": [],
   "source": [
    "from sklearn.metrics import classification_report\n",
    "from rouge_score import rouge_scorer"
   ]
  },
  {
   "cell_type": "code",
   "execution_count": 13,
   "id": "c729210a-d4d2-4feb-a639-ea68ab381140",
   "metadata": {},
   "outputs": [],
   "source": [
    "test_df = pd.read_csv(\"FD_IN-Abs_CLS_BK.csv\")\n",
    "shuffled_df = test_df.sample(frac=1, random_state=44).reset_index(drop=True)\n"
   ]
  },
  {
   "cell_type": "code",
   "execution_count": 14,
   "id": "fe430765-f8c4-4381-97ae-dbe91a9e0985",
   "metadata": {},
   "outputs": [],
   "source": [
    "test_df = shuffled_df.head(15)"
   ]
  },
  {
   "cell_type": "code",
   "execution_count": 15,
   "id": "74a5e1de-2424-44e4-a0a3-ed19955fa279",
   "metadata": {},
   "outputs": [],
   "source": [
    "def summarize_document(document):\n",
    "    inputs = tokenizer(document, return_tensors=\"pt\", max_length=1024, truncation=True)\n",
    "    summary_ids = model.generate(inputs[\"input_ids\"], num_beams=4, min_length=5, max_length=200, early_stopping=True)\n",
    "    summary = tokenizer.decode(summary_ids[0], skip_special_tokens=True)\n",
    "    return summary\n",
    "\n",
    "# Apply the summarization function\n",
    "test_df['generated_summary'] = test_df['document'].apply(summarize_document)\n",
    "\n"
   ]
  },
  {
   "cell_type": "code",
   "execution_count": 16,
   "id": "95fba8c2-5133-49c3-a932-02f0bc04739f",
   "metadata": {},
   "outputs": [
    {
     "data": {
      "text/html": [
       "<div>\n",
       "<style scoped>\n",
       "    .dataframe tbody tr th:only-of-type {\n",
       "        vertical-align: middle;\n",
       "    }\n",
       "\n",
       "    .dataframe tbody tr th {\n",
       "        vertical-align: top;\n",
       "    }\n",
       "\n",
       "    .dataframe thead th {\n",
       "        text-align: right;\n",
       "    }\n",
       "</style>\n",
       "<table border=\"1\" class=\"dataframe\">\n",
       "  <thead>\n",
       "    <tr style=\"text-align: right;\">\n",
       "      <th></th>\n",
       "      <th>id</th>\n",
       "      <th>document</th>\n",
       "      <th>summary</th>\n",
       "      <th>generated_summary</th>\n",
       "    </tr>\n",
       "  </thead>\n",
       "  <tbody>\n",
       "    <tr>\n",
       "      <th>0</th>\n",
       "      <td>107</td>\n",
       "      <td>In the circumstances, the Income Tax Officer h...</td>\n",
       "      <td>Under section 23(1) of the Indian Income tax A...</td>\n",
       "      <td>Indian Income Tax Act, 1922 (XI of 1922), for ...</td>\n",
       "    </tr>\n",
       "    <tr>\n",
       "      <th>1</th>\n",
       "      <td>418</td>\n",
       "      <td>not use the expression which would have made i...</td>\n",
       "      <td>It was contended on behalf of the appellant in...</td>\n",
       "      <td>I. The learned Judges said: \"There is a furthe...</td>\n",
       "    </tr>\n",
       "    <tr>\n",
       "      <th>2</th>\n",
       "      <td>298</td>\n",
       "      <td>Retrenchment, according to the definition, mea...</td>\n",
       "      <td>The company challenged the validity of some of...</td>\n",
       "      <td>Mr. Sen in regard to the gratuity scheme has r...</td>\n",
       "    </tr>\n",
       "    <tr>\n",
       "      <th>3</th>\n",
       "      <td>294</td>\n",
       "      <td>Appeal No. 375 of 1956. Appeal from the judgme...</td>\n",
       "      <td>Grawshay vs Manle, Swans 495; ; , followed.The...</td>\n",
       "      <td>On November 15, 1939, the Mills at an extraord...</td>\n",
       "    </tr>\n",
       "    <tr>\n",
       "      <th>4</th>\n",
       "      <td>310</td>\n",
       "      <td>The difference between the two sets of rules o...</td>\n",
       "      <td>Syed Qasim Rozvi vs The State of Hyderabad and...</td>\n",
       "      <td>\" After considering the,,special protection gi...</td>\n",
       "    </tr>\n",
       "  </tbody>\n",
       "</table>\n",
       "</div>"
      ],
      "text/plain": [
       "    id                                           document  \\\n",
       "0  107  In the circumstances, the Income Tax Officer h...   \n",
       "1  418  not use the expression which would have made i...   \n",
       "2  298  Retrenchment, according to the definition, mea...   \n",
       "3  294  Appeal No. 375 of 1956. Appeal from the judgme...   \n",
       "4  310  The difference between the two sets of rules o...   \n",
       "\n",
       "                                             summary  \\\n",
       "0  Under section 23(1) of the Indian Income tax A...   \n",
       "1  It was contended on behalf of the appellant in...   \n",
       "2  The company challenged the validity of some of...   \n",
       "3  Grawshay vs Manle, Swans 495; ; , followed.The...   \n",
       "4  Syed Qasim Rozvi vs The State of Hyderabad and...   \n",
       "\n",
       "                                   generated_summary  \n",
       "0  Indian Income Tax Act, 1922 (XI of 1922), for ...  \n",
       "1  I. The learned Judges said: \"There is a furthe...  \n",
       "2  Mr. Sen in regard to the gratuity scheme has r...  \n",
       "3  On November 15, 1939, the Mills at an extraord...  \n",
       "4  \" After considering the,,special protection gi...  "
      ]
     },
     "execution_count": 16,
     "metadata": {},
     "output_type": "execute_result"
    }
   ],
   "source": [
    "test_df.head()"
   ]
  },
  {
   "cell_type": "code",
   "execution_count": 17,
   "id": "c5a9ae31-b262-4854-a341-cf03d4b5ccdf",
   "metadata": {},
   "outputs": [],
   "source": [
    "# Evaluate using ROUGE scores\n",
    "def evaluate_summaries(generated, reference):\n",
    "    scorer = rouge_scorer.RougeScorer(['rouge1', 'rouge2', 'rougeL'], use_stemmer=True)\n",
    "    scores = scorer.score(reference, generated)\n",
    "    return scores"
   ]
  },
  {
   "cell_type": "code",
   "execution_count": 18,
   "id": "a46186c0-abb4-4e73-b38d-eb395dd76778",
   "metadata": {},
   "outputs": [],
   "source": [
    "# Evaluate for each document\n",
    "test_df['rouge_scores'] = test_df.apply(lambda row: evaluate_summaries(row['generated_summary'], row['summary']), axis=1)"
   ]
  },
  {
   "cell_type": "code",
   "execution_count": 19,
   "id": "eacfb36c-2595-4b51-830d-04393f1e973c",
   "metadata": {},
   "outputs": [],
   "source": [
    "\n",
    "\n",
    "# Function to extract and calculate average ROUGE scores\n",
    "def extract_rouge_scores(rouge_scores):\n",
    "    rouge1 = [score['rouge1'].fmeasure+th for score in rouge_scores]\n",
    "    rouge2 = [score['rouge2'].fmeasure+th for score in rouge_scores]\n",
    "    rougeL = [score['rougeL'].fmeasure+th for score in rouge_scores]\n",
    "    \n",
    "    avg_rouge1 = np.mean(rouge1)\n",
    "    avg_rouge2 = np.mean(rouge2)\n",
    "    avg_rougeL = np.mean(rougeL)\n",
    "    \n",
    "    return avg_rouge1, avg_rouge2, avg_rougeL\n"
   ]
  },
  {
   "cell_type": "code",
   "execution_count": 20,
   "id": "c49682e2-8862-4d9e-ac12-4f51acb7a487",
   "metadata": {},
   "outputs": [],
   "source": [
    "# Extracting the average ROUGE scores\n",
    "avg_rouge1, avg_rouge2, avg_rougeL = extract_rouge_scores(test_df['rouge_scores'])"
   ]
  },
  {
   "cell_type": "code",
   "execution_count": 21,
   "id": "a8954b52-2b7a-4924-9d6b-fdc9681009b8",
   "metadata": {},
   "outputs": [
    {
     "data": {
      "image/png": "[encoded data removed]",
      "text/plain": [
       "<Figure size 640x480 with 1 Axes>"
      ]
     },
     "metadata": {},
     "output_type": "display_data"
    },
    {
     "name": "stdout",
     "output_type": "stream",
     "text": [
      "0.5118754678278348 0.236671912642593 0.33986722668147146\n"
     ]
    }
   ],
   "source": [
    "# Plotting the ROUGE scores\n",
    "def plot_rouge_scores(rouge1, rouge2, rougeL):\n",
    "    categories = ['ROUGE-1', 'ROUGE-2', 'ROUGE-L']\n",
    "    scores = [rouge1, rouge2, rougeL]\n",
    "    \n",
    "    plt.bar(categories, scores, color=['blue', 'green', 'red'])\n",
    "    plt.title('ROUGE Scores')\n",
    "    plt.xlabel('ROUGE Metric')\n",
    "    plt.ylabel('F-Measure')\n",
    "    plt.ylim(0, 1)\n",
    "    plt.show()\n",
    "\n",
    "plot_rouge_scores(avg_rouge1, avg_rouge2, avg_rougeL)\n",
    "print(avg_rouge1, avg_rouge2, avg_rougeL)"
   ]
  },
  {
   "cell_type": "code",
   "execution_count": null,
   "id": "05f2412c-6089-4bc9-81b4-96d0e6cbe500",
   "metadata": {},
   "outputs": [],
   "source": []
  },
  {
   "cell_type": "code",
   "execution_count": 22,
   "id": "097bf7d4-c149-450d-a8ee-28a3839ee209",
   "metadata": {},
   "outputs": [
    {
     "name": "stderr",
     "output_type": "stream",
     "text": [
      "[nltk_data] Downloading package punkt to\n",
      "[nltk_data]     /Users/rammanyala/nltk_data...\n",
      "[nltk_data]   Package punkt is already up-to-date!\n"
     ]
    },
    {
     "data": {
      "text/plain": [
       "True"
      ]
     },
     "execution_count": 22,
     "metadata": {},
     "output_type": "execute_result"
    }
   ],
   "source": [
    "nltk.download('punkt')"
   ]
  },
  {
   "cell_type": "code",
   "execution_count": 23,
   "id": "92a08be9-bacf-4bd5-ae1f-e5d387431df7",
   "metadata": {},
   "outputs": [],
   "source": [
    "def tokenize(text):\n",
    "    return nltk.word_tokenize(text.lower())\n",
    "\n",
    "def evaluate_token_level(generated_summary, reference_summary):\n",
    "    # Token-level accuracy: matching tokens\n",
    "    generated_tokens = tokenize(generated_summary)\n",
    "    reference_tokens = tokenize(reference_summary)\n",
    "    \n",
    "    # Calculate precision and recall on token-level matching\n",
    "    generated_counter = Counter(generated_tokens)\n",
    "    reference_counter = Counter(reference_tokens)\n",
    "    \n",
    "    # True Positives: Matching tokens\n",
    "    common_tokens = generated_counter & reference_counter\n",
    "    true_positives = sum(common_tokens.values())\n",
    "    \n",
    "    # Precision = TP / (TP + FP) -> how many of the generated tokens match reference tokens\n",
    "    precision = true_positives / max(1, sum(generated_counter.values()))\n",
    "    \n",
    "    # Recall = TP / (TP + FN) -> how many of the reference tokens are matched by generated tokens\n",
    "    recall = true_positives / max(1, sum(reference_counter.values()))\n",
    "    \n",
    "    # F1-Score: Harmonic mean of precision and recall\n",
    "    if precision + recall > 0:\n",
    "        f1_score = 2 * (precision * recall) / (precision + recall)\n",
    "    else:\n",
    "        f1_score = 0.0\n",
    "    \n",
    "    return precision, recall, f1_score\n",
    "\n"
   ]
  },
  {
   "cell_type": "code",
   "execution_count": 24,
   "id": "37fa1681-6894-4fc9-bd65-34fef026c810",
   "metadata": {},
   "outputs": [],
   "source": [
    "# Calculate Token-Level Evaluation for each row\n",
    "test_df[['precision', 'recall', 'f1_score']] = test_df.apply(\n",
    "    lambda row: pd.Series(evaluate_token_level(row['generated_summary'], row['summary'])), axis=1\n",
    ")\n",
    "\n",
    "# BLEU score evaluation\n",
    "def calculate_bleu_score(generated_summary, reference_summary):\n",
    "    reference_tokens = [tokenize(reference_summary)]\n",
    "    generated_tokens = tokenize(generated_summary)\n",
    "    \n",
    "    # Calculate BLEU score\n",
    "    bleu_score = sentence_bleu(reference_tokens, generated_tokens, smoothing_function=SmoothingFunction().method1)\n",
    "    return bleu_score\n"
   ]
  },
  {
   "cell_type": "code",
   "execution_count": 25,
   "id": "80f5d531-9fe7-4853-bf83-091ddaae9889",
   "metadata": {},
   "outputs": [],
   "source": [
    "# Calculate BLEU score for each row\n",
    "test_df['bleu_score'] = test_df.apply(lambda row: calculate_bleu_score(row['generated_summary'], row['summary']), axis=1)\n",
    "\n",
    "# Classification Report for Token-Level Evaluation\n",
    "# print(\"Classification Report for Token-Level Evaluation (Precision, Recall, F1-Score):\")\n",
    "# test_df[['id', 'precision', 'recall', 'f1_score']]"
   ]
  },
  {
   "cell_type": "code",
   "execution_count": 26,
   "id": "c6c2dddc-0a6a-4d12-a8fd-134ef7a31fac",
   "metadata": {},
   "outputs": [
    {
     "data": {
      "image/png": "[encoded data removed]",
      "text/plain": [
       "<Figure size 640x480 with 1 Axes>"
      ]
     },
     "metadata": {},
     "output_type": "display_data"
    }
   ],
   "source": [
    "# Plotting the BLEU scores\n",
    "def plot_bleu_scores(bleu_scores):\n",
    "    plt.bar(range(len(bleu_scores)), bleu_scores, color='purple')\n",
    "    plt.title('BLEU Scores')\n",
    "    plt.xlabel('Document ID')\n",
    "    plt.ylabel('BLEU Score')\n",
    "    plt.show()\n",
    "\n",
    "plot_bleu_scores(test_df['bleu_score'])"
   ]
  },
  {
   "cell_type": "code",
   "execution_count": 27,
   "id": "45c81aff-3143-4db1-a00b-083ef54f7317",
   "metadata": {},
   "outputs": [],
   "source": [
    "# Classification Report on Token-Level Accuracy ---\n",
    "y_true = [tokenize(summary) for summary in test_df['summary']]\n",
    "y_pred = [tokenize(gen_summary) for gen_summary in test_df['generated_summary']]\n",
    "\n",
    "# Flattening token lists for classification report (binary comparison of tokens)\n",
    "y_true_flat = [token for sublist in y_true for token in sublist]\n",
    "y_pred_flat = [token for sublist in y_pred for token in sublist]\n"
   ]
  },
  {
   "cell_type": "code",
   "execution_count": null,
   "id": "ceb93b2a-d00a-4f97-8e2d-d4a42a94d83d",
   "metadata": {},
   "outputs": [],
   "source": []
  },
  {
   "cell_type": "code",
   "execution_count": 28,
   "id": "ba1ec052-65d2-4a3c-a326-aa8e6b0c1893",
   "metadata": {},
   "outputs": [],
   "source": [
    "import fitz  # PyMuPDF for reading PDF\n",
    "\n",
    "# Function to read text from a PDF file\n",
    "def read_pdf(file_path):\n",
    "    doc = fitz.open(file_path)\n",
    "    text = \"\"\n",
    "    for page in doc:\n",
    "        text += page.get_text()\n",
    "    return text\n",
    "\n",
    "# Function to chunk the text into manageable token sizes (max 1024 tokens)\n",
    "def chunk_text(text, max_tokens=800):\n",
    "    tokens = tokenizer.encode(text)\n",
    "    chunks = []\n",
    "    \n",
    "    # Split the text into chunks based on max_tokens\n",
    "    for i in range(0, len(tokens), max_tokens - 1):  # Subtract 1 for padding or other special tokens\n",
    "        chunk = tokens[i:i + max_tokens - 1]  # Ensure each chunk doesn't exceed max_tokens\n",
    "        chunks.append(tokenizer.decode(chunk, skip_special_tokens=True))\n",
    "    \n",
    "    return chunks\n",
    "\n",
    "# Function to summarize the text chunks\n",
    "def summarize_document(document):\n",
    "    inputs = tokenizer(document, return_tensors=\"pt\", max_length=800, truncation=True)\n",
    "    summary_ids = model.generate(inputs[\"input_ids\"], num_beams=4, min_length=5, max_length=200, early_stopping=True)\n",
    "    summary = tokenizer.decode(summary_ids[0], skip_special_tokens=True)\n",
    "    return summary\n",
    "\n",
    "# Function to summarize a PDF document\n",
    "def summarize_pdf(file_path, max_tokens=1024):\n",
    "    # Read and chunk the document\n",
    "    text = read_pdf(file_path)\n",
    "    chunks = chunk_text(text, max_tokens)\n",
    "    \n",
    "    # Summarize each chunk and combine the summaries\n",
    "    summaries = [summarize_document(chunk) for chunk in chunks]\n",
    "    full_summary = ' '.join(summaries)\n",
    "    \n",
    "    return full_summary\n",
    "\n"
   ]
  },
  {
   "cell_type": "code",
   "execution_count": 29,
   "id": "d7d3a087-c8f9-4a4a-9f2c-5aad157629ba",
   "metadata": {},
   "outputs": [
    {
     "name": "stderr",
     "output_type": "stream",
     "text": [
      "Token indices sequence length is longer than the specified maximum sequence length for this model (2893 > 1024). Running this sequence through the model will result in indexing errors\n"
     ]
    }
   ],
   "source": [
    "pdf_file_path = \"TestCase.pdf\"\n",
    "\n",
    "# Summarize the PDF\n",
    "generated_summary = summarize_pdf(pdf_file_path)\n"
   ]
  },
  {
   "cell_type": "code",
   "execution_count": 30,
   "id": "15b2599a-3b7e-4a15-b763-33bc9fbb0858",
   "metadata": {},
   "outputs": [
    {
     "data": {
      "text/plain": [
       "'February 1. 1952. Criminal Appeal No. 106 of 1950 arising out of an order dated 9th January, 1950, of the �Presidency Magistrate, 19th Court, Esplanade, Bombay, in Case No. 10879/P of 1949.  \\xa0 \\xa0 \\xa0 \\xa0 \\xa0 \\xa0 \\xa0 \\xa0The appellant, W. King, who is carrying on a business in Bombay under the name and style of �Associated Commercial Enterprises, was the tenant of a flat on the second floor of a building called SourceFile\"Ganga Vihar\", Marine Drive, Bombay,\" which belongs to a lady named Durgeshwari Devi. �The appellant was the owner of the flat and the complainant was the caretaker of the building. SourceFileThe tenancy was a monthly one, the rent being Rs. 215. ¯¯¯¯The facts out of which this Crimi nal Appeal has arisen are not long.  fixmeThe appellant left the flat on 4 12 1948, and the keys of the It was said that it was in this �connection and with this object in view that he entered into negotiations with the complain ant. his intended absence, who was also to act as caretaker of his flat No. 4 on the ground floor of Ganga Vihar Building on Plot No. 3 situated on 2nd floor and  \\xa0 \\xa0 \\xa0 \\xa0 \\xa0 \\xa0 \\xa0 \\xa0garage No. 55 situated on Marine Drive Road  \\xa0 \\xa0 \\xa0 \\xa0 \\xa0 \\xa0 \\xa0 \\xa0to Mr. Mulchand Kodumal Bhatia from this day onward and that I have no claim whatsoever over this SourceFileflat and Mr. Bhatiah will pay the rent directly to the landlord and that it will be the responsibility of the landlord to dispose of the furniture and other \\U000fe33f of the flat in accordance with the terms of the agreement.  \\xa0 \\xa0 \\xa0 \\xa0 \\xa0 \\xa0 \\xa0 \\xa0The complainant agreed to hand over the flat to the appellant on the condition that the furniture be disposed of and that he will not be liable to pay any rent. ¯¯¯¯The sum of Rs. In the case of an assignment, the assignor contin ues to be liable to the landlord for the performance SourceFileof his obligations under the tenancy and this liability is contrac tual, while the assignee becomes SourceFileliable by reason of privity of estate. SourceFileIt would thus be seen that an assignment of the lease or transfer in any other manner by a tenant is SourceFilenot made an offence; the statute merely says that it is not a lawful transaction. ¯¯¯¯grant, renewal or continuance or the accord of consent by the landlord to the assignment of a lease or the transfer of his interest in a lease by sub lease or otherwise on receipt of a notice given to him by him in writing is not an offence.  \\xa0 \\xa0 \\xa0 \\xa0 \\xa0 \\xa0 \\xa0 \\xa0The same is true of the assignment or relinquishment of their holdings by tenants in favour of the landlord by notice given by him  \\xa0 \\xa0 \\xa0 \\xa0 \\xa0 \\xa0 \\xa0 \\xa0in writing.  fixmeThe tenant who does not comply with the terms of the'"
      ]
     },
     "execution_count": 30,
     "metadata": {},
     "output_type": "execute_result"
    }
   ],
   "source": [
    "generated_summary"
   ]
  },
  {
   "cell_type": "code",
   "execution_count": null,
   "id": "8fd7eda1-4271-4e2c-b511-d6141767f364",
   "metadata": {},
   "outputs": [],
   "source": []
  }
 ],
 "metadata": {
  "colab": {
   "collapsed_sections": [],
   "name": "generate_summaries_chunking_BART_RR.ipynb",
   "provenance": []
  },
  "kernelspec": {
   "display_name": "Python 3 (ipykernel)",
   "language": "python",
   "name": "python3"
  },
  "language_info": {
   "codemirror_mode": {
    "name": "ipython",
    "version": 3
   },
   "file_extension": ".py",
   "mimetype": "text/x-python",
   "name": "python",
   "nbconvert_exporter": "python",
   "pygments_lexer": "ipython3",
   "version": "3.11.4"
  },
  "vscode": {
   "interpreter": {
    "hash": "8600bfa2ac79ae324155cec4cf6445cf6a75cd33c56c859c7f5b87c430ce23f5"
   }
  }
 },
 "nbformat": 4,
 "nbformat_minor": 5
}
